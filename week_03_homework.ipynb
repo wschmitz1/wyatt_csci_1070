{
 "cells": [
  {
   "cell_type": "markdown",
   "metadata": {},
   "source": [
    "### Homework 3 Numpy Arrays and Pandas\n",
    "\n",
    "1. Open `cars.csv` in jupyter and look at the data. (Double click `cars.csv` to open in a new tab).\n",
    "2. We are converting each **column** into a numpy array.\n",
    "3. Notice we have text, integer and float data. \n",
    "4. Take care not to overwrite your starter code."
   ]
  },
  {
   "cell_type": "code",
   "execution_count": 5,
   "metadata": {},
   "outputs": [],
   "source": [
    "#Starter code. Do NOT modify this cell\n",
    "import pandas as pd\n",
    "import numpy as np\n",
    "\n",
    "# Read in dataset\n",
    "df = pd.read_csv('cars.csv',delimiter=';')\n",
    "\n",
    "# Convert each column to an np.array\n",
    "car = df.Car.to_numpy()\n",
    "mpg = df.MPG.to_numpy()\n",
    "cylinders = df.Cylinders.to_numpy()\n",
    "displacement = df.Displacement.to_numpy()\n",
    "horsepower = df.Horsepower.to_numpy()\n",
    "weight = df.Weight.to_numpy()\n",
    "acceleration = df.Acceleration.to_numpy()\n",
    "model = df.Model.to_numpy()\n",
    "origin = df.Origin.to_numpy()\n",
    "\n",
    "# create an array of headers\n",
    "headers = np.array(['Car', 'MPG', 'Cylinders', 'Displacement', 'Horsepower', 'Weight','Acceleration', 'Model', 'Origin'])\n"
   ]
  },
  {
   "cell_type": "code",
   "execution_count": 53,
   "metadata": {},
   "outputs": [
    {
     "name": "stdout",
     "output_type": "stream",
     "text": [
      "                           Car   MPG  Cylinders  Displacement  Horsepower  \\\n",
      "0    Chevrolet Chevelle Malibu  18.0          8         307.0       130.0   \n",
      "1            Buick Skylark 320  15.0          8         350.0       165.0   \n",
      "2           Plymouth Satellite  18.0          8         318.0       150.0   \n",
      "3                AMC Rebel SST  16.0          8         304.0       150.0   \n",
      "4                  Ford Torino  17.0          8         302.0       140.0   \n",
      "..                         ...   ...        ...           ...         ...   \n",
      "401            Ford Mustang GL  27.0          4         140.0        86.0   \n",
      "402          Volkswagen Pickup  44.0          4          97.0        52.0   \n",
      "403              Dodge Rampage  32.0          4         135.0        84.0   \n",
      "404                Ford Ranger  28.0          4         120.0        79.0   \n",
      "405                 Chevy S-10  31.0          4         119.0        82.0   \n",
      "\n",
      "     Weight  Acceleration  Model  Origin  \n",
      "0    3504.0          12.0     70      US  \n",
      "1    3693.0          11.5     70      US  \n",
      "2    3436.0          11.0     70      US  \n",
      "3    3433.0          12.0     70      US  \n",
      "4    3449.0          10.5     70      US  \n",
      "..      ...           ...    ...     ...  \n",
      "401  2790.0          15.6     82      US  \n",
      "402  2130.0          24.6     82  Europe  \n",
      "403  2295.0          11.6     82      US  \n",
      "404  2625.0          18.6     82      US  \n",
      "405  2720.0          19.4     82      US  \n",
      "\n",
      "[406 rows x 9 columns]\n"
     ]
    }
   ],
   "source": [
    "print(df)"
   ]
  },
  {
   "cell_type": "markdown",
   "metadata": {},
   "source": [
    "1. (2 pts) What are the numpy datatypes for the `car`,`mpg`, `horsepower` and `origin` arrays? (Hint: Not `type(car)` and use `print()` to print the numpy type.)"
   ]
  },
  {
   "cell_type": "code",
   "execution_count": 27,
   "metadata": {},
   "outputs": [
    {
     "name": "stdout",
     "output_type": "stream",
     "text": [
      "Datatype: object\n",
      "Datatype: float64\n",
      "Datatype: float64\n",
      "Datatype: object\n"
     ]
    }
   ],
   "source": [
    "print(\"Datatype:\", car.dtype)\n",
    "print(\"Datatype:\", mpg.dtype)\n",
    "print(\"Datatype:\", horsepower.dtype)\n",
    "print(\"Datatype:\", origin.dtype)"
   ]
  },
  {
   "cell_type": "markdown",
   "metadata": {},
   "source": [
    "2. (1 pt) `numpy` is often imported as `np`. What is this action called? Why might you do this? "
   ]
  },
  {
   "cell_type": "code",
   "execution_count": null,
   "metadata": {},
   "outputs": [],
   "source": [
    "# This action can be referred to as aliasing. You would do this to to avoid having to type \"numpy\" each time you execute a function. "
   ]
  },
  {
   "cell_type": "markdown",
   "metadata": {},
   "source": [
    "3. (2 pts) Each of the arrays (cars, mpg, cylinders, etc..) has how many dimensions? Show how to find this using code. "
   ]
  },
  {
   "cell_type": "code",
   "execution_count": 52,
   "metadata": {},
   "outputs": [
    {
     "name": "stdout",
     "output_type": "stream",
     "text": [
      "Car Dimensions = 1\n",
      "MPG Dimensions = 1\n",
      "Cylinders Dimensions = 1\n",
      "Displacement Dimensions = 1\n",
      "Horsepower Dimensions = 1\n",
      "Weight Dimensions = 1\n",
      "Acceleration Dimensions = 1\n",
      "Model Dimensions = 1\n",
      "Origin Dimensions = 1\n"
     ]
    }
   ],
   "source": [
    "CarDimensions = car.ndim \n",
    "MPGDimensions = mpg.ndim\n",
    "CylindersDimensions = cylinders.ndim\n",
    "DisplacementDimensions = displacement.ndim\n",
    "HorsepowerDimensions = horsepower.ndim\n",
    "WeightDimensions = weight.ndim\n",
    "AccelerationDimesnions = acceleration.ndim\n",
    "ModelDimensions = model.ndim\n",
    "OriginDimensions = origin.ndim\n",
    "\n",
    "\n",
    "\n",
    "print(f'Car Dimensions = {CarDimensions}')\n",
    "print(f'MPG Dimensions = {MPGDimensions}')\n",
    "print(f'Cylinders Dimensions = {CylindersDimensions}')\n",
    "print(f'Displacement Dimensions = {DisplacementDimensions}')\n",
    "print(f'Horsepower Dimensions = {HorsepowerDimensions}')\n",
    "print(f'Weight Dimensions = {WeightDimensions}')\n",
    "print(f'Acceleration Dimensions = {AccelerationDimesnions}')\n",
    "print(f'Model Dimensions = {ModelDimensions}')\n",
    "print(f'Origin Dimensions = {OriginDimensions}')\n"
   ]
  },
  {
   "cell_type": "markdown",
   "metadata": {},
   "source": [
    "4. (3 pts) What is the ___ of `horsepower`?\n",
    "- sum\n",
    "- min\n",
    "- max\n",
    "- median\n",
    "- Optional: mode (May need to google help) (1 pt extra credit)"
   ]
  },
  {
   "cell_type": "code",
   "execution_count": 40,
   "metadata": {},
   "outputs": [
    {
     "name": "stdout",
     "output_type": "stream",
     "text": [
      "Horsepower Total: 42033.0\n",
      "Horsepower Minimum: 0.0\n",
      "Horsepower Max: 230.0\n",
      "Horsepower Median: 93.5\n"
     ]
    }
   ],
   "source": [
    "horsepower_sum = np.sum(horsepower)\n",
    "MinOfHorsepower = np.min(horsepower)\n",
    "MaxOfHorsepower = np.max(horsepower)\n",
    "MedianOfHorsepower = np.median(horsepower)\n",
    "\n",
    "print(f\"Horsepower Total: {horsepower_sum}\")\n",
    "print(f\"Horsepower Minimum: {MinOfHorsepower}\")\n",
    "print(f\"Horsepower Max: {MaxOfHorsepower}\")\n",
    "print(f\"Horsepower Median: {MedianOfHorsepower}\")"
   ]
  },
  {
   "cell_type": "markdown",
   "metadata": {},
   "source": [
    "5. (2 pts) Select the last element in each subarray (do this with one operation.)"
   ]
  },
  {
   "cell_type": "code",
   "execution_count": 41,
   "metadata": {},
   "outputs": [
    {
     "name": "stdout",
     "output_type": "stream",
     "text": [
      "[3 6 9]\n"
     ]
    }
   ],
   "source": [
    "select_more = np.array([[1,2,3],\n",
    "                      [4,5,6],\n",
    "                      [7,8,9]])\n",
    "# returns array([3, 6, 9])\n",
    "\n",
    "result = select_more[:, -1]\n",
    "\n",
    "print(result)"
   ]
  },
  {
   "cell_type": "markdown",
   "metadata": {},
   "source": [
    "6. (2 pts) Use the built-in `np.lookfor()` function to search for `'log'`.\n",
    "\n",
    "Use the function you find and apply it to `mpg`."
   ]
  },
  {
   "cell_type": "code",
   "execution_count": 42,
   "metadata": {},
   "outputs": [
    {
     "name": "stdout",
     "output_type": "stream",
     "text": [
      "Search results for 'log'\n",
      "------------------------\n",
      "numpy.log\n",
      "    Natural logarithm, element-wise.\n",
      "numpy.log2\n",
      "    Base-2 logarithm of `x`.\n",
      "numpy.log10\n",
      "    Return the base 10 logarithm of the input array, element-wise.\n",
      "numpy.log1p\n",
      "    Return the natural logarithm of one plus the input array, element-wise.\n",
      "numpy.logspace\n",
      "    Return numbers spaced evenly on a log scale.\n",
      "numpy.logaddexp\n",
      "    Logarithm of the sum of exponentiations of the inputs.\n",
      "numpy.logaddexp2\n",
      "    Logarithm of the sum of exponentiations of the inputs in base-2.\n",
      "numpy.logical_or\n",
      "    Compute the truth value of x1 OR x2 element-wise.\n",
      "numpy.logical_and\n",
      "    Compute the truth value of x1 AND x2 element-wise.\n",
      "numpy.logical_not\n",
      "    Compute the truth value of NOT x element-wise.\n",
      "numpy.logical_xor\n",
      "    Compute the truth value of x1 XOR x2, element-wise.\n",
      "numpy.ma.log\n",
      "    Natural logarithm, element-wise.\n",
      "numpy.ma.log2\n",
      "    Base-2 logarithm of `x`.\n",
      "numpy.ma.log10\n",
      "    Return the base 10 logarithm of the input array, element-wise.\n",
      "numpy.recarray\n",
      "    Construct an ndarray that allows field access using attributes.\n",
      "numpy.geomspace\n",
      "    Return numbers spaced evenly on a log scale (a geometric progression).\n",
      "numpy.array_api.log\n",
      "    Array API compatible wrapper for :py:func:`np.log <numpy.log>`.\n",
      "numpy.seterrcall\n",
      "    Set the floating-point error callback function or log object.\n",
      "numpy.array_api.log2\n",
      "    Array API compatible wrapper for :py:func:`np.log2 <numpy.log2>`.\n",
      "numpy.array_api.log10\n",
      "    Array API compatible wrapper for :py:func:`np.log10 <numpy.log10>`.\n",
      "numpy.array_api.log1p\n",
      "    Array API compatible wrapper for :py:func:`np.log1p <numpy.log1p>`.\n",
      "numpy.ma.logical_or\n",
      "    Compute the truth value of x1 OR x2 element-wise.\n",
      "numpy.linalg.slogdet\n",
      "    Compute the sign and (natural) logarithm of the determinant of an array.\n",
      "numpy.ma.logical_and\n",
      "    Compute the truth value of x1 AND x2 element-wise.\n",
      "numpy.ma.logical_not\n",
      "    Compute the truth value of NOT x element-wise.\n",
      "numpy.ma.logical_xor\n",
      "    Compute the truth value of x1 XOR x2, element-wise.\n",
      "numpy.array_api.logaddexp\n",
      "    Array API compatible wrapper for :py:func:`np.logaddexp <numpy.logaddexp>`.\n",
      "numpy.ma.mask_or\n",
      "    Combine two masks with the ``logical_or`` operator.\n",
      "numpy.array_api.logical_or\n",
      "    Array API compatible wrapper for :py:func:`np.logical_or <numpy.logical_or>`.\n",
      "numpy.array_api.logical_and\n",
      "    Array API compatible wrapper for :py:func:`np.logical_and <numpy.logical_and>`.\n",
      "numpy.array_api.logical_not\n",
      "    Array API compatible wrapper for :py:func:`np.logical_not <numpy.logical_not>`.\n",
      "numpy.array_api.logical_xor\n",
      "    Array API compatible wrapper for :py:func:`np.logical_xor <numpy.logical_xor>`.\n",
      "numpy.distutils.log.good\n",
      "    If we log WARN messages, log this message as a 'nice' anti-warn\n",
      "numpy.array_api.linalg.slogdet\n",
      "    Array API compatible wrapper for :py:func:`np.linalg.slogdet <numpy.linalg.slogdet>`.\n",
      "numpy.random.Generator.logistic\n",
      "    Draw samples from a logistic distribution.\n",
      "numpy.random.Generator.lognormal\n",
      "    Draw samples from a log-normal distribution.\n",
      "numpy.random.Generator.logseries\n",
      "    Draw samples from a logarithmic series distribution.\n",
      "numpy.distutils.log.Log.good\n",
      "    If we log WARN messages, log this message as a 'nice' anti-warn\n",
      "numpy.linalg._umath_linalg.slogdet\n",
      "    slogdet on the last two dimensions and broadcast on the rest.\n",
      "numpy.random.RandomState.logistic\n",
      "    Draw samples from a logistic distribution.\n",
      "numpy.random.RandomState.lognormal\n",
      "    Draw samples from a log-normal distribution.\n",
      "numpy.random.RandomState.logseries\n",
      "    Draw samples from a logarithmic series distribution.\n",
      "numpy.all\n",
      "    Test whether all array elements along a given axis evaluate to True.\n",
      "numpy.any\n",
      "    Test whether any array element along a given axis evaluates to True.\n",
      "numpy.exp\n",
      "    Calculate the exponential of all elements in the input array.\n",
      "numpy.in1d\n",
      "    Test whether each element of a 1-D array is also present in a second array.\n",
      "numpy.isin\n",
      "    Calculates ``element in test_elements``, broadcasting over `element` only.\n",
      "numpy.sort\n",
      "    Return a sorted copy of an array.\n",
      "numpy.expm1\n",
      "    Calculate ``exp(x) - 1`` for all elements in the array.\n",
      "numpy.isnan\n",
      "    Test element-wise for NaN and return result as a boolean array.\n",
      "numpy.geterr\n",
      "    Get the current way of handling floating-point errors.\n",
      "numpy.kaiser\n",
      "    Return the Kaiser window.\n",
      "numpy.seterr\n",
      "    Set how floating-point errors are handled.\n",
      "numpy.testing.suppress_warnings.record\n",
      "    Append a new recording filter or apply it if the state is entered.\n",
      "numpy.distutils.command.build.build\n",
      "    Abstract base class for defining command classes, the \"worker bees\"\n",
      "numpy.distutils.command.sdist.sdist\n",
      "    Abstract base class for defining command classes, the \"worker bees\"\n",
      "numpy.hamming\n",
      "    Return the Hamming window.\n",
      "numpy.hanning\n",
      "    Return the Hanning window.\n",
      "numpy.bartlett\n",
      "    Return the Bartlett window.\n",
      "numpy.blackman\n",
      "    Return the Blackman window.\n",
      "numpy.errstate\n",
      "    errstate(**kwargs)\n",
      "numpy.isfinite\n",
      "    Test element-wise for finiteness (not infinity and not Not a Number).\n",
      "numpy.linspace\n",
      "    Return evenly spaced numbers over a specified interval.\n",
      "numpy.packbits\n",
      "    Packs the elements of a binary-valued array into bits in a uint8 array.\n",
      "numpy.distutils.command.config.config\n",
      "    Abstract base class for defining command classes, the \"worker bees\"\n",
      "numpy.geterrobj\n",
      "    geterrobj()\n",
      "numpy.seterrobj\n",
      "    Set the object that defines floating-point error handling.\n",
      "numpy.bitwise_or\n",
      "    Compute the bit-wise OR of two arrays element-wise.\n",
      "numpy.geterrcall\n",
      "    Return the current callback function used on floating-point errors.\n",
      "numpy.bitwise_and\n",
      "    Compute the bit-wise AND of two arrays element-wise.\n",
      "numpy.bitwise_not\n",
      "    Compute bit-wise inversion, or bit-wise NOT, element-wise.\n",
      "numpy.bitwise_xor\n",
      "    Compute the bit-wise XOR of two arrays element-wise.\n",
      "numpy.distutils.command.install.install\n",
      "    Abstract base class for defining command classes, the \"worker bees\"\n",
      "numpy.histogram2d\n",
      "    Compute the bi-dimensional histogram of two data samples.\n",
      "numpy.ma.exp\n",
      "    Calculate the exponential of all elements in the input array.\n",
      "numpy.distutils.command.build_py.build_py\n",
      "    Abstract base class for defining command classes, the \"worker bees\"\n",
      "numpy.distutils.command.egg_info.egg_info\n",
      "    Abstract base class for defining command classes, the \"worker bees\"\n",
      "numpy.fft.fft2\n",
      "    Compute the 2-dimensional discrete Fourier Transform.\n",
      "numpy.fft.fftn\n",
      "    Compute the N-dimensional discrete Fourier Transform.\n",
      "numpy.fft.hfft\n",
      "    Compute the FFT of a signal that has Hermitian symmetry, i.e., a real\n",
      "numpy.fft.ifft2\n",
      "    Compute the 2-dimensional inverse discrete Fourier Transform.\n",
      "numpy.fft.ifftn\n",
      "    Compute the N-dimensional inverse discrete Fourier Transform.\n",
      "numpy.fft.ihfft\n",
      "    Compute the inverse FFT of a signal that has Hermitian symmetry.\n",
      "numpy.distutils.command.bdist_rpm.bdist_rpm\n",
      "    Abstract base class for defining command classes, the \"worker bees\"\n",
      "numpy.distutils.command.build_ext.build_ext\n",
      "    Abstract base class for defining command classes, the \"worker bees\"\n",
      "numpy.distutils.command.build_src.build_src\n",
      "    Abstract base class for defining command classes, the \"worker bees\"\n",
      "numpy.linalg.det\n",
      "    Compute the determinant of an array.\n",
      "numpy.matrix.any\n",
      "    Test whether any array element along a given axis evaluates to True.\n",
      "numpy.distutils.command.build_clib.build_clib\n",
      "    Abstract base class for defining command classes, the \"worker bees\"\n",
      "numpy.byte.bit_count\n",
      "    int8.bit_count() -> int\n",
      "numpy.ma.bitwise_or\n",
      "    Compute the bit-wise OR of two arrays element-wise.\n",
      "numpy.histogram_bin_edges\n",
      "    Function to calculate only the edges of the bins used by the `histogram`\n",
      "numpy.ma.bitwise_and\n",
      "    Compute the bit-wise AND of two arrays element-wise.\n",
      "numpy.ma.bitwise_xor\n",
      "    Compute the bit-wise XOR of two arrays element-wise.\n",
      "numpy.int16.bit_count\n",
      "    int16.bit_count() -> int\n",
      "numpy.int32.bit_count\n",
      "    int32.bit_count() -> int\n",
      "numpy.int64.bit_count\n",
      "    int64.bit_count() -> int\n",
      "numpy.distutils.command.install_clib.install_clib\n",
      "    Abstract base class for defining command classes, the \"worker bees\"\n",
      "numpy.distutils.command.install_data.install_data\n",
      "    Abstract base class for defining command classes, the \"worker bees\"\n",
      "numpy.uint.bit_count\n",
      "    uint64.bit_count() -> int\n",
      "numpy.ubyte.bit_count\n",
      "    uint8.bit_count() -> int\n",
      "numpy.distutils.command.build_scripts.build_scripts\n",
      "    Abstract base class for defining command classes, the \"worker bees\"\n",
      "numpy.distutils.ccompiler_opt.CCompilerOpt._dist_str\n",
      "    Return a string to print by log and errors.\n",
      "numpy.uint16.bit_count\n",
      "    uint16.bit_count() -> int\n",
      "numpy.uint32.bit_count\n",
      "    uint32.bit_count() -> int\n",
      "numpy.random.RandomState\n",
      "    Container for the slow Mersenne Twister pseudo-random number generator.\n",
      "numpy.random.SeedSequence\n",
      "    SeedSequence mixes sources of entropy in a reproducible way to set the\n",
      "numpy.distutils.command.install_headers.install_headers\n",
      "    Abstract base class for defining command classes, the \"worker bees\"\n",
      "numpy.distutils.armccompiler.ArmCCompiler.add_link_object\n",
      "    Add 'object' to the list of object files (or analogues, such as\n",
      "numpy.distutils.command.egg_info.egg_info.write_file\n",
      "    Write `data` to `filename` (if not a dry run) after announcing it\n",
      "numpy.distutils.armccompiler.ArmCCompiler.set_link_objects\n",
      "    Set the list of object files (or analogues) to be included in\n",
      "numpy.distutils.command.bdist_rpm.bdist_rpm._format_changelog\n",
      "    Format the changelog correctly and convert it to a list of strings\n",
      "numpy.testing.suppress_warnings\n",
      "    Context manager and decorator doing much the same as\n",
      "numpy.random.Generator.wald\n",
      "    Draw samples from a Wald, or inverse Gaussian, distribution.\n",
      "numpy.random.Generator.zipf\n",
      "    Draw samples from a Zipf distribution.\n",
      "numpy.random.Generator.power\n",
      "    Draws samples in [0, 1] from a power distribution with positive\n",
      "numpy.random.Generator.gumbel\n",
      "    Draw samples from a Gumbel distribution.\n",
      "numpy.random.RandomState.wald\n",
      "    Draw samples from a Wald, or inverse Gaussian, distribution.\n",
      "numpy.random.RandomState.zipf\n",
      "    Draw samples from a Zipf distribution.\n",
      "numpy.random.RandomState.power\n",
      "    Draws samples in [0, 1] from a power distribution with positive\n",
      "numpy.random.Generator.vonmises\n",
      "    Draw samples from a von Mises distribution.\n",
      "numpy.random.RandomState.gumbel\n",
      "    Draw samples from a Gumbel distribution.\n",
      "numpy.random.RandomState.vonmises\n",
      "    Draw samples from a von Mises distribution.\n",
      "numpy.distutils.numpy_distribution.NumpyDistribution.finalize_options\n",
      "    Set final values for all the options on the Distribution\n",
      "numpy.random.Generator.exponential\n",
      "    Draw samples from an exponential distribution.\n",
      "numpy.random.RandomState.exponential\n",
      "    Draw samples from an exponential distribution.\n",
      "numpy.distutils.ccompiler.CCompiler_spawn\n",
      "    Execute a command in a sub-process.\n",
      "numpy.random.Generator.multivariate_normal\n",
      "    multivariate_normal(mean, cov, size=None, check_valid='warn',\n",
      "numpy.distutils.tests.test_ccompiler_opt_conf.TestConfFeatures.assertLogs\n",
      "    Fail unless a log message of level *level* or higher is emitted\n",
      "numpy.random.RandomState.multivariate_normal\n",
      "    Draw random samples from a multivariate normal distribution.\n",
      "numpy.distutils.ccompiler.CCompiler_show_customization\n",
      "    Print the compiler customizations to stdout.[2.89037176 2.7080502  2.89037176 2.77258872 2.83321334 2.7080502\n",
      " 2.63905733 2.63905733 2.63905733 2.7080502        -inf       -inf\n",
      "       -inf       -inf       -inf 2.7080502  2.63905733       -inf\n",
      " 2.7080502  2.63905733 3.17805383 3.09104245 2.89037176 3.04452244\n",
      " 3.29583687 3.25809654 3.21887582 3.17805383 3.21887582 3.25809654\n",
      " 3.04452244 2.30258509 2.30258509 2.39789527 2.19722458 3.29583687\n",
      " 3.33220451 3.21887582 3.21887582       -inf 2.94443898 2.77258872\n",
      " 2.83321334 2.94443898 2.89037176 2.63905733 2.63905733 2.63905733\n",
      " 2.63905733 2.48490665 2.56494936 2.56494936 2.89037176 3.09104245\n",
      " 2.94443898 2.89037176 3.13549422 3.33220451 3.40119738 3.40119738\n",
      " 3.4339872  3.55534806 3.29583687 3.25809654 3.17805383 3.21887582\n",
      " 3.13549422 2.99573227 3.04452244 2.56494936 2.63905733 2.7080502\n",
      " 2.63905733 2.83321334 2.39789527 2.56494936 2.48490665 2.56494936\n",
      " 2.94443898 2.7080502  2.56494936 2.56494936 2.63905733 2.89037176\n",
      " 3.09104245 3.04452244 3.25809654 3.09104245 3.33220451 3.13549422\n",
      " 3.33220451 3.29583687 2.56494936 2.63905733 2.56494936 2.63905733\n",
      " 2.7080502  2.48490665 2.56494936 2.56494936 2.63905733 2.56494936\n",
      " 2.48490665 2.56494936 2.89037176 2.77258872 2.89037176 2.89037176\n",
      " 3.13549422 3.25809654 2.39789527 2.48490665 2.56494936 2.48490665\n",
      " 2.89037176 2.99573227 3.04452244 3.09104245 2.89037176 2.94443898\n",
      " 3.04452244 3.25809654 2.7080502  2.77258872 3.36729583 3.17805383\n",
      " 2.99573227 2.94443898 2.7080502  3.17805383 2.99573227 2.39789527\n",
      " 2.99573227 3.04452244 2.94443898 2.7080502  3.4339872  3.25809654\n",
      " 3.4657359  3.21887582 2.77258872 2.77258872 2.89037176 2.77258872\n",
      " 2.56494936 2.63905733 2.63905733 2.63905733 3.36729583 3.25809654\n",
      " 3.25809654 3.4339872  3.4657359  3.33220451 3.17805383 3.25809654\n",
      " 3.17805383 3.25809654 3.4339872  2.94443898 2.89037176 2.7080502\n",
      " 2.7080502  2.77258872 2.7080502  2.77258872 2.63905733 2.83321334\n",
      " 2.77258872 2.7080502  2.89037176 3.04452244 2.99573227 2.56494936\n",
      " 3.36729583 3.13549422 2.99573227 3.13549422 3.17805383 3.21887582\n",
      " 3.17805383 2.89037176 3.36729583 2.94443898 3.13549422 3.13549422\n",
      " 3.09104245 3.21887582 3.49650756 3.33220451 3.21887582 3.21887582\n",
      " 3.25809654 3.29583687 2.86220088 2.77258872 2.74084002 2.67414865\n",
      " 3.09104245 3.09104245 3.17805383 3.11351531 3.36729583 3.19867312\n",
      " 3.36729583 3.49650756 2.99573227 2.89037176 2.91777073 2.86220088\n",
      " 3.38439026 3.4657359  3.33220451 3.27714473 2.99573227 2.56494936\n",
      " 2.94443898 2.94443898 2.80336038 2.80336038 2.56494936 2.56494936\n",
      " 2.56494936 3.44998755 3.40119738 3.58351894 3.23867845 3.51154544\n",
      " 2.86220088 2.83321334 2.74084002 2.7080502  2.86220088 3.02042489\n",
      " 2.94443898 2.91777073 2.77258872 2.74084002 2.74084002 2.77258872\n",
      " 3.36729583 3.19867312 3.25809654 3.23867845 3.41772668 3.51154544\n",
      " 3.40119738 3.41772668 3.09104245 3.06805294 3.06805294 3.763523\n",
      " 3.58629287 3.49042852 3.67376582 3.58629287 2.99071973 2.96527307\n",
      " 3.0056826  2.95491028 3.02042489 3.0056826  3.22286785 3.02042489\n",
      " 2.96527307 3.02529108 3.03495299 2.92316158 2.89591194 2.95491028\n",
      " 2.87356464 2.89591194 2.86220088 3.40119738 3.314186   3.30321697\n",
      " 3.43075618 3.04927304 3.14415228 3.16968558 3.17387846 3.01062089\n",
      " 2.83321334 3.07269331 2.78501124 3.44998755 3.38439026 3.06805294\n",
      " 2.98568194 3.10458668 3.0056826  3.02529108 2.83321334 2.8678989\n",
      " 2.80336038 2.90142159 2.82731362 2.74084002 2.95491028 2.91777073\n",
      " 3.46260601 3.52929738 3.57515069 3.31054301 3.23474917 3.13549422\n",
      " 3.30321697 3.17387846 3.53222564 3.54095932 3.45946629 3.61899333\n",
      " 3.34638915 3.36037539 3.28840189 3.51154544 3.72569343 3.64021428\n",
      " 3.46885603 3.61630876 3.33220451 3.27336401 3.19047635 2.94968834\n",
      " 3.53514535 3.39450839 3.4436181  3.61091791 3.47196645 3.84160054\n",
      " 3.32862669 3.70868208 3.79098468 3.77045944 3.59456877 3.40119738\n",
      " 3.79773386 3.71113006 3.5204608  3.39450839 3.48737508 3.16547505\n",
      " 3.55534806 3.16124671 3.47815842 3.30321697 3.28091122 3.25037449\n",
      " 3.15700042 3.40119738 3.66612247 3.66356165 3.55820113 3.47506723\n",
      " 3.61091791 3.62966009 3.52929738 3.54673969 3.53805656 3.39785848\n",
      " 3.49650756 3.54095932 3.51749784 3.47815842 3.49347266 3.45315712\n",
      " 3.33576958       -inf 3.42426265 3.23474917 3.18635263 3.10906096\n",
      " 3.28091122 3.0056826  2.8678989  3.33220451 3.29583687 3.52636052\n",
      " 3.4339872  3.36729583 3.29583687 3.17805383 3.13549422 3.58351894\n",
      " 3.61091791 3.4339872  3.63758616 3.58351894 3.58351894 3.58351894\n",
      " 3.52636052 3.63758616 3.4657359  3.63758616 3.21887582 3.63758616\n",
      " 3.25809654 3.09104245 3.4657359  3.58351894 3.29583687 3.29583687\n",
      " 3.78418963 3.4657359  3.33220451 3.4339872 ]\n"
     ]
    },
    {
     "name": "stderr",
     "output_type": "stream",
     "text": [
      "/var/folders/kq/22rtshv9635518wrmfbx3l1r0000gn/T/ipykernel_3362/1721931561.py:2: RuntimeWarning: divide by zero encountered in log\n",
      "  mpg_log = np.log(mpg)\n"
     ]
    }
   ],
   "source": [
    "np.lookfor('log')\n",
    "mpg_log = np.log(mpg)\n",
    "print(mpg_log)"
   ]
  },
  {
   "cell_type": "markdown",
   "metadata": {},
   "source": [
    "7. (2 pts) Use boolean indexing to create an array of `True/False` using `origin` and the value 'US'."
   ]
  },
  {
   "cell_type": "code",
   "execution_count": 43,
   "metadata": {},
   "outputs": [
    {
     "name": "stdout",
     "output_type": "stream",
     "text": [
      "[ True  True  True  True  True  True  True  True  True  True False  True\n",
      "  True  True  True  True  True  True  True  True False  True  True  True\n",
      " False False False False False False  True  True  True  True  True False\n",
      "  True False  True False  True  True  True  True  True  True  True  True\n",
      "  True  True  True  True  True  True  True  True  True False False False\n",
      " False False False  True False  True False  True  True  True  True  True\n",
      "  True  True  True  True  True  True False  True  True  True  True False\n",
      " False False False  True False False  True False  True  True  True  True\n",
      "  True  True  True  True  True  True  True  True  True  True  True  True\n",
      "  True False  True  True  True  True  True False  True False False  True\n",
      "  True False  True  True False False False False  True False False  True\n",
      "  True  True  True  True False  True False  True  True  True  True  True\n",
      "  True  True  True  True False False False False False  True False False\n",
      " False False False  True  True  True  True  True  True  True  True  True\n",
      "  True  True  True  True  True  True False  True  True  True False False\n",
      " False  True False  True False False False False False False False  True\n",
      "  True False  True  True  True  True  True  True  True  True  True  True\n",
      " False False  True  True  True  True False False False  True False  True\n",
      " False False False  True  True  True  True False  True False  True False\n",
      "  True  True  True  True  True  True  True  True  True  True  True  True\n",
      " False  True False  True  True  True False False False False False False\n",
      "  True False False False  True  True  True  True  True  True  True  True\n",
      "  True  True  True  True  True  True  True  True  True  True False False\n",
      "  True False  True  True False False False False False False False  True\n",
      "  True  True  True  True  True  True  True  True  True  True  True  True\n",
      " False False  True  True False  True False  True  True  True False False\n",
      "  True  True  True  True False False  True False  True  True  True  True\n",
      " False False False False False False  True False False False False False\n",
      " False False False False False False False  True False  True  True  True\n",
      "  True  True False  True False False False False False  True  True  True\n",
      " False False False False False False False False False False False  True\n",
      "  True  True  True  True  True  True  True  True  True  True  True False\n",
      " False False  True  True False False False False False False  True  True\n",
      "  True  True False  True  True  True False  True  True  True]\n"
     ]
    }
   ],
   "source": [
    "USOrigin = (origin == 'US')\n",
    "print(USOrigin)"
   ]
  },
  {
   "cell_type": "markdown",
   "metadata": {},
   "source": [
    "8. (2 pts) Apply your index (from above) to the `car` array. You should now only see cars that are of US origin. "
   ]
  },
  {
   "cell_type": "code",
   "execution_count": 44,
   "metadata": {},
   "outputs": [
    {
     "name": "stdout",
     "output_type": "stream",
     "text": [
      "['Chevrolet Chevelle Malibu' 'Buick Skylark 320' 'Plymouth Satellite'\n",
      " 'AMC Rebel SST' 'Ford Torino' 'Ford Galaxie 500' 'Chevrolet Impala'\n",
      " 'Plymouth Fury iii' 'Pontiac Catalina' 'AMC Ambassador DPL'\n",
      " 'Chevrolet Chevelle Concours (sw)' 'Ford Torino (sw)'\n",
      " 'Plymouth Satellite (sw)' 'AMC Rebel SST (sw)' 'Dodge Challenger SE'\n",
      " \"Plymouth 'Cuda 340\" 'Ford Mustang Boss 302' 'Chevrolet Monte Carlo'\n",
      " 'Buick Estate Wagon (sw)' 'Plymouth Duster' 'AMC Hornet' 'Ford Maverick'\n",
      " 'AMC Gremlin' 'Ford F250' 'Chevy C20' 'Dodge D200' 'Hi 1200D'\n",
      " 'Chevrolet Vega 2300' 'Ford Pinto' 'AMC Gremlin'\n",
      " 'Plymouth Satellite Custom' 'Chevrolet Chevelle Malibu' 'Ford Torino 500'\n",
      " 'AMC Matador' 'Chevrolet Impala' 'Pontiac Catalina Brougham'\n",
      " 'Ford Galaxie 500' 'Plymouth Fury iii' 'Dodge Monaco (sw)'\n",
      " 'Ford Country Squire (sw)' 'Pontiac Safari (sw)'\n",
      " 'AMC Hornet Sportabout (sw)' 'Chevrolet Vega (sw)' 'Pontiac Firebird'\n",
      " 'Ford Mustang' 'Mercury Capri 2000' 'Plymouth Cricket'\n",
      " 'Dodge Colt Hardtop' 'Chevrolet Vega' 'Ford Pinto Runabout'\n",
      " 'Chevrolet Impala' 'Pontiac Catalina' 'Plymouth Fury III'\n",
      " 'Ford Galaxie 500' 'AMC Ambassador SST' 'Mercury Marquis'\n",
      " 'Buick LeSabre Custom' 'Oldsmobile Delta 88 Royale'\n",
      " 'Chrysler Newport Royal' 'AMC Matador (sw)'\n",
      " 'Chevrolet Chevelle Concours (sw)' 'Ford Gran Torino (sw)'\n",
      " 'Plymouth Satellite Custom (sw)' 'Ford Pinto (sw)' 'Dodge Colt (sw)'\n",
      " 'Buick Century 350' 'AMC Matador' 'Chevrolet Malibu' 'Ford Gran Torino'\n",
      " 'Dodge Coronet Custom' 'Mercury Marquis Brougham'\n",
      " 'Chevrolet Caprice Classic' 'Ford LTD' 'Plymouth Fury Gran Sedan'\n",
      " 'Chrysler New Yorker Brougham' 'Buick Electra 225 Custom'\n",
      " 'AMC Ambassador Brougham' 'Plymouth Valiant' 'Chevrolet Nova Custom'\n",
      " 'AMC Hornet' 'Ford Maverick' 'Plymouth Duster' 'Chevrolet Impala'\n",
      " 'Ford Country' 'Plymouth Custom Suburb' 'Oldsmobile Vista Cruiser'\n",
      " 'AMC Gremlin' 'Chevrolet Vega' 'Ford Pinto' 'Mercury Capri v6'\n",
      " 'Chevrolet Monte Carlo S' 'Pontiac Grand Prix' 'Dodge Dart Custom'\n",
      " 'Oldsmobile Omega' 'Plymouth Duster' 'Ford Maverick' 'AMC Hornet'\n",
      " 'Chevrolet Nova' 'Ford Pinto' 'Chevrolet Vega'\n",
      " 'Chevrolet Chevelle Malibu Classic' 'AMC Matador'\n",
      " 'Plymouth Satellite Sebring' 'Ford Gran Torino'\n",
      " 'Buick Century Luxus (sw)' 'Dodge Coronet Custom (sw)'\n",
      " 'Ford Gran Torino (sw)' 'AMC Matador (sw)' 'Dodge Colt'\n",
      " 'Plymouth Valiant Custom' 'Chevrolet Nova' 'Mercury Monarch'\n",
      " 'Ford Maverick' 'Pontiac Catalina' 'Chevrolet Bel Air'\n",
      " 'Plymouth Grand Fury' 'Ford LTD' 'Buick Century'\n",
      " 'Chevrolete Chevelle Malibu' 'AMC Matador' 'Plymouth Fury'\n",
      " 'Buick Skyhawk' 'Chevrolet Monza 2+2' 'Ford Mustang II' 'Ford Pinto'\n",
      " 'AMC Gremlin' 'Pontiac Astro' 'Ford Pinto' 'AMC Pacer' 'Capri ii'\n",
      " 'Dodge Colt' 'Chevrolet Chevelle Malibu Classic' 'Dodge Coronet Brougham'\n",
      " 'AMC Matador' 'Ford Gran Torino' 'Plymouth Valiant' 'Chevrolet Nova'\n",
      " 'Ford Maverick' 'AMC Hornet' 'Chevrolet Chevette' 'Chevrolet Woody'\n",
      " 'Dodge Aspen SE' 'Ford Grenada ghia' 'Pontiac Ventura SJ' 'AMC Pacer d/l'\n",
      " 'Ford Pinto' 'Plymouth Volare Premier v8' 'Cadillac Seville'\n",
      " 'Chevrolet C10' 'Ford F108' 'Dodge D100' 'Buick Opel Isuzu Deluxe'\n",
      " 'Plymouth Arrow GS' 'Chevrolet Caprice Classic'\n",
      " 'Oldsmobile Cutlass Supreme' 'Dodge Monaco Brougham'\n",
      " 'Mercury Cougar Brougham' 'Chevrolet Concours' 'Buick Skylark'\n",
      " 'Plymouth Volare Custom' 'Ford Grenada' 'Pontiac Grand Prix LJ'\n",
      " 'Chevrolet Monte Carlo Landau' 'Chrysler Cordoba' 'Ford Thunderbird'\n",
      " 'Pontiac Sunbird Coupe' 'Ford Mustang II 2+2' 'Chevrolet Chevette'\n",
      " 'Dodge Colt m/m' 'Ford Fiesta' 'Oldsmobile Cutlass Salon Brougham'\n",
      " 'Dodge Diplomat' 'Mercury Monarch ghia' 'Pontiac Phoenix LJ'\n",
      " 'Chevrolet Malibu' 'Ford Fairmont (auto)' 'Ford Fairmont (man)'\n",
      " 'Plymouth Volare' 'AMC Concord' 'Buick Century Special' 'Mercury Zephyr'\n",
      " 'Dodge Aspen' 'AMC Concord d/l' 'Chevrolet Monte Carlo Landau'\n",
      " 'Buick Regal Sport Coupe (turbo)' 'Ford Futura' 'Dodge Magnum XE'\n",
      " 'Chevrolet Chevette' 'Dodge Omni' 'Plymouth Sapporo'\n",
      " 'Oldsmobile Starfire SX' 'Pontiac Lemans V6' 'Mercury Zephyr 6'\n",
      " 'Ford Fairmont 4' 'AMC Concord DL 6' 'Dodge Aspen 6'\n",
      " 'Chevrolet Caprice Classic' 'Ford LTD Landau' 'Mercury Grand Marquis'\n",
      " 'Dodge St. Regis' 'Buick Estate Wagon (sw)' 'Ford Country Squire (sw)'\n",
      " 'Chevrolet Malibu Classic (sw)' 'Chrysler Lebaron Town @ Country (sw)'\n",
      " 'Dodge Colt Hatchback Custom' 'AMC Spirit DL' 'Cadillac Eldorado'\n",
      " 'Oldsmobile Cutlass Salon Brougham' 'Plymouth Horizon'\n",
      " 'Plymouth Horizon TC3' 'Buick Skylark Limited' 'Chevrolet Citation'\n",
      " 'Oldsmobile Omega Brougham' 'Pontiac Phoenix' 'Chevrolet Chevette'\n",
      " 'Chevrolet Citation' 'Ford Fairmont' 'AMC Concord' 'Dodge Aspen'\n",
      " 'Dodge Colt' 'Ford Mustang Cobra' 'Plymouth Reliant' 'Buick Skylark'\n",
      " 'Dodge Aries Wagon (sw)' 'Chevrolet Citation' 'Plymouth Reliant'\n",
      " 'Plymouth Champ' 'Plymouth Horizon 4' 'Ford Escort 4W' 'Ford Escort 2H'\n",
      " 'Buick Century' 'Oldsmobile Cutlass LS' 'Ford Grenada gl'\n",
      " 'Chrysler Lebaron Salon' 'Chevrolet Cavalier' 'Chevrolet Cavalier Wagon'\n",
      " 'Chevrolet Cavalier 2-door' 'Pontiac J2000 SE Hatchback' 'Dodge Aries SE'\n",
      " 'Pontiac Phoenix' 'Ford Fairmont Futura' 'AMC Concord DL'\n",
      " 'Plymouth Horizon Miser' 'Mercury Lynx l' 'Buick Century Limited'\n",
      " 'Oldsmobile Cutlass Ciera (diesel)' 'Chrysler Lebaron Medallion'\n",
      " 'Ford Grenada l' 'Dodge Charger 2.2' 'Chevrolet Camaro' 'Ford Mustang GL'\n",
      " 'Dodge Rampage' 'Ford Ranger' 'Chevy S-10']\n"
     ]
    }
   ],
   "source": [
    "USCars = car[USOrigin]\n",
    "print(USCars)"
   ]
  },
  {
   "cell_type": "markdown",
   "metadata": {},
   "source": [
    "### Use numpy or pandas to answer the following questions."
   ]
  },
  {
   "cell_type": "markdown",
   "metadata": {},
   "source": [
    "9. (3 pts) What is the average horsepower for `Europe` cars? (Hint: create a boolean index of 'US' apply it to horsepower and perform the calculation.)"
   ]
  },
  {
   "cell_type": "code",
   "execution_count": 45,
   "metadata": {},
   "outputs": [
    {
     "name": "stdout",
     "output_type": "stream",
     "text": [
      "European Car Avg Horsepower = 78.78082191780823\n"
     ]
    }
   ],
   "source": [
    "EuropeanCar = (origin == 'Europe')\n",
    "EuropeanCarHorsepower = np.mean(horsepower[EuropeanCar])\n",
    "\n",
    "print(f'European Car Avg Horsepower = {EuropeanCarHorsepower}')"
   ]
  },
  {
   "cell_type": "markdown",
   "metadata": {},
   "source": [
    "10. (3 pts) On average are Japanese cars more fuel-efficient than US cars? Show the code that you used to determine this.  "
   ]
  },
  {
   "cell_type": "code",
   "execution_count": 46,
   "metadata": {},
   "outputs": [
    {
     "name": "stdout",
     "output_type": "stream",
     "text": [
      "Japanese Car AVG MPG = 30.450632911392404\n",
      "US Car AVG MPG = 19.688188976377955\n"
     ]
    }
   ],
   "source": [
    "JapaneseCar = (origin == 'Japan')\n",
    "USCar = (origin == 'US')\n",
    "\n",
    "JapaneseCarMPG = np.mean(mpg[JapaneseCar])\n",
    "USCarMPG = np.mean(mpg[USCar])\n",
    "\n",
    "print(f'Japanese Car AVG MPG = {JapaneseCarMPG}')\n",
    "print(f'US Car AVG MPG = {USCarMPG}')\n",
    "\n",
    "# The below results clearly prove that Japanese cars greatly outperform US cars on average when it comes to MPG\n"
   ]
  },
  {
   "cell_type": "markdown",
   "metadata": {},
   "source": [
    "11. (3 pts) What is the correlation coefficient of `mpg` and `weight`? What is a correlation coefficient? What does the result indicate about the relationship between mpg and weight? "
   ]
  },
  {
   "cell_type": "code",
   "execution_count": 47,
   "metadata": {},
   "outputs": [
    {
     "name": "stdout",
     "output_type": "stream",
     "text": [
      "-0.7875099405047027\n"
     ]
    }
   ],
   "source": [
    "CorrelationCoefficient = np.corrcoef(mpg, weight)[0, 1]\n",
    "# Correlation Coefficient is the measure of closeness of association of the variables given. \n",
    "# In this case the variables are MPG and Weight.\n",
    "print(CorrelationCoefficient)\n",
    "# The result shows us there is not much correlation between MPG and Weight."
   ]
  },
  {
   "cell_type": "markdown",
   "metadata": {},
   "source": [
    "Extra credit: (3 pts) Create a new pandas dataframe that has the average mpg, weight, and horsepower per country of origin"
   ]
  },
  {
   "cell_type": "code",
   "execution_count": null,
   "metadata": {},
   "outputs": [],
   "source": []
  }
 ],
 "metadata": {
  "kernelspec": {
   "display_name": "Python 3 (ipykernel)",
   "language": "python",
   "name": "python3"
  },
  "language_info": {
   "codemirror_mode": {
    "name": "ipython",
    "version": 3
   },
   "file_extension": ".py",
   "mimetype": "text/x-python",
   "name": "python",
   "nbconvert_exporter": "python",
   "pygments_lexer": "ipython3",
   "version": "3.9.6"
  }
 },
 "nbformat": 4,
 "nbformat_minor": 4
}
