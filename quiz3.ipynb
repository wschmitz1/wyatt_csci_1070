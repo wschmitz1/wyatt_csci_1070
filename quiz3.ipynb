{
 "cells": [
  {
   "cell_type": "markdown",
   "metadata": {},
   "source": [
    "!pip3 install numpy\n",
    "!pip3 install pandas "
   ]
  },
  {
   "cell_type": "code",
   "execution_count": 14,
   "metadata": {},
   "outputs": [
    {
     "name": "stderr",
     "output_type": "stream",
     "text": [
      "/var/folders/kq/22rtshv9635518wrmfbx3l1r0000gn/T/ipykernel_1459/1835755686.py:2: DeprecationWarning: \n",
      "Pyarrow will become a required dependency of pandas in the next major release of pandas (pandas 3.0),\n",
      "(to allow more performant data types, such as the Arrow string type, and better interoperability with other libraries)\n",
      "but was not found to be installed on your system.\n",
      "If this would cause problems for you,\n",
      "please provide us feedback at https://github.com/pandas-dev/pandas/issues/54466\n",
      "        \n",
      "  import pandas as np\n"
     ]
    }
   ],
   "source": [
    "import numpy as np \n",
    "import pandas as np\n",
    "import math\n",
    "import statistics\n"
   ]
  },
  {
   "cell_type": "code",
   "execution_count": null,
   "metadata": {},
   "outputs": [],
   "source": []
  },
  {
   "cell_type": "markdown",
   "metadata": {},
   "source": []
  },
  {
   "cell_type": "markdown",
   "metadata": {},
   "source": []
  },
  {
   "cell_type": "code",
   "execution_count": 10,
   "metadata": {},
   "outputs": [
    {
     "name": "stdout",
     "output_type": "stream",
     "text": [
      "Defaulting to user installation because normal site-packages is not writeable\n",
      "Collecting numpy\n",
      "  Downloading numpy-1.26.4-cp39-cp39-macosx_11_0_arm64.whl (14.0 MB)\n",
      "\u001b[K     |████████████████████████████████| 14.0 MB 2.1 MB/s eta 0:00:01\n",
      "\u001b[?25hInstalling collected packages: numpy\n",
      "Successfully installed numpy-1.26.4\n",
      "\u001b[33mWARNING: You are using pip version 21.2.4; however, version 24.0 is available.\n",
      "You should consider upgrading via the '/Library/Developer/CommandLineTools/usr/bin/python3 -m pip install --upgrade pip' command.\u001b[0m\n"
     ]
    }
   ],
   "source": [
    "!pip3 install numpy"
   ]
  },
  {
   "cell_type": "code",
   "execution_count": 13,
   "metadata": {},
   "outputs": [
    {
     "name": "stdout",
     "output_type": "stream",
     "text": [
      "Defaulting to user installation because normal site-packages is not writeable\n",
      "Collecting pandas\n",
      "  Downloading pandas-2.2.0-cp39-cp39-macosx_11_0_arm64.whl (11.8 MB)\n",
      "\u001b[K     |████████████████████████████████| 11.8 MB 2.3 MB/s eta 0:00:01\n",
      "\u001b[?25hRequirement already satisfied: numpy<2,>=1.22.4 in /Users/wyattschmitz/Library/Python/3.9/lib/python/site-packages (from pandas) (1.26.4)\n",
      "Requirement already satisfied: python-dateutil>=2.8.2 in /Users/wyattschmitz/Library/Python/3.9/lib/python/site-packages (from pandas) (2.8.2)\n",
      "Collecting tzdata>=2022.7\n",
      "  Downloading tzdata-2023.4-py2.py3-none-any.whl (346 kB)\n",
      "\u001b[K     |████████████████████████████████| 346 kB 16.0 MB/s eta 0:00:01\n",
      "\u001b[?25hCollecting pytz>=2020.1\n",
      "  Downloading pytz-2024.1-py2.py3-none-any.whl (505 kB)\n",
      "\u001b[K     |████████████████████████████████| 505 kB 15.0 MB/s eta 0:00:01\n",
      "\u001b[?25hRequirement already satisfied: six>=1.5 in /Library/Developer/CommandLineTools/Library/Frameworks/Python3.framework/Versions/3.9/lib/python3.9/site-packages (from python-dateutil>=2.8.2->pandas) (1.15.0)\n",
      "Installing collected packages: tzdata, pytz, pandas\n",
      "Successfully installed pandas-2.2.0 pytz-2024.1 tzdata-2023.4\n",
      "\u001b[33mWARNING: You are using pip version 21.2.4; however, version 24.0 is available.\n",
      "You should consider upgrading via the '/Library/Developer/CommandLineTools/usr/bin/python3 -m pip install --upgrade pip' command.\u001b[0m\n"
     ]
    }
   ],
   "source": [
    "!pip3 install pandas"
   ]
  },
  {
   "cell_type": "code",
   "execution_count": 15,
   "metadata": {},
   "outputs": [],
   "source": [
    "import numpy as np \n",
    "import pandas as np\n",
    "import math\n",
    "import statistics"
   ]
  },
  {
   "cell_type": "code",
   "execution_count": 16,
   "metadata": {},
   "outputs": [
    {
     "ename": "NameError",
     "evalue": "name 'pd' is not defined",
     "output_type": "error",
     "traceback": [
      "\u001b[0;31m---------------------------------------------------------------------------\u001b[0m",
      "\u001b[0;31mNameError\u001b[0m                                 Traceback (most recent call last)",
      "Cell \u001b[0;32mIn[16], line 2\u001b[0m\n\u001b[1;32m      1\u001b[0m belize_listings_path \u001b[38;5;241m=\u001b[39m \u001b[38;5;124m\"\u001b[39m\u001b[38;5;124mbelize_airbnb_listings.csv\u001b[39m\u001b[38;5;124m\"\u001b[39m\n\u001b[0;32m----> 2\u001b[0m belize_df \u001b[38;5;241m=\u001b[39m \u001b[43mpd\u001b[49m\u001b[38;5;241m.\u001b[39mread_csv(belize_listings_path)\n\u001b[1;32m      3\u001b[0m belize_df\u001b[38;5;241m.\u001b[39mhead\n",
      "\u001b[0;31mNameError\u001b[0m: name 'pd' is not defined"
     ]
    }
   ],
   "source": [
    "belize_listings_path = \"belize_airbnb_listings.csv\"\n",
    "belize_df = pd.read_csv(belize_listings_path)\n",
    "belize_df.head"
   ]
  },
  {
   "cell_type": "code",
   "execution_count": null,
   "metadata": {},
   "outputs": [],
   "source": [
    "belize_listings_path = \"belize_airbnb_listings.csv\"\n",
    "belize_df = pd.read_csv(belize_listings_path)\n",
    "belize_df.head"
   ]
  },
  {
   "cell_type": "code",
   "execution_count": 18,
   "metadata": {},
   "outputs": [],
   "source": [
    "import numpy as np \n",
    "import pandas as pd\n",
    "import math\n",
    "import statistics"
   ]
  },
  {
   "cell_type": "code",
   "execution_count": 19,
   "metadata": {},
   "outputs": [],
   "source": [
    "import numpy as np \n",
    "import pandas as pd\n",
    "import math\n",
    "import statistics"
   ]
  },
  {
   "cell_type": "code",
   "execution_count": 20,
   "metadata": {},
   "outputs": [
    {
     "data": {
      "text/plain": [
       "<bound method NDFrame.head of             id                                               name    host_id  \\\n",
       "0        36666         Mo's Cozy Casa w/ veranda & access to dock     157752   \n",
       "1        36690  Mo's Cozy Cabana w/ comfy veranda & access to ...     157752   \n",
       "2       108932  Purple House eco solar  w/ ocean & wildlife views     563377   \n",
       "3       110483                            Michelo's fuchsia suite     567809   \n",
       "4       120115               Seaside Villas Second Floor Unit  #4     604999   \n",
       "...        ...                                                ...        ...   \n",
       "2791  48283996                                     Magical Island   17994012   \n",
       "2792  48287613   The Luxury Suite - Corozal, Bz- 3Bdr/2bthr CASA1  375769845   \n",
       "2793  48296096  Lagoon front apartment w/shared pool -  two mi...   76414486   \n",
       "2794  48296978                          Beachfront Poolside Condo   15308338   \n",
       "2795  48332221           Standard Room - San Ignacio Resort Hotel   60399527   \n",
       "\n",
       "          host_name neighbourhood_group         neighbourhood   latitude  \\\n",
       "0           Monique              Belize        Belize Islands  17.747860   \n",
       "1           Monique              Belize        Belize Islands  17.748320   \n",
       "2           Michael              Belize        Belize Islands  17.732210   \n",
       "3            Michel         Stann Creek  Stann Creek Mainland  16.521140   \n",
       "4             Bobbi              Belize        Belize Islands  17.741660   \n",
       "...             ...                 ...                   ...        ...   \n",
       "2791         Ronald              Belize        Belize Islands  17.945690   \n",
       "2792        Michael             Corozal               Corozal  18.374630   \n",
       "2793  Vacasa Belize              Belize        Belize Islands  17.934580   \n",
       "2794      Alexandra              Belize        Belize Islands  17.930010   \n",
       "2795    San Ignacio                Cayo                  Cayo  17.154127   \n",
       "\n",
       "      longitude        room_type  price  minimum_nights  number_of_reviews  \\\n",
       "0    -88.023980  Entire home/apt    141               3                250   \n",
       "1    -88.024740  Entire home/apt     71               3                316   \n",
       "2    -88.038240  Entire home/apt    191               2                 30   \n",
       "3    -88.369260       Hotel room    121               1                 27   \n",
       "4    -88.023950  Entire home/apt    343               1                 30   \n",
       "...         ...              ...    ...             ...                ...   \n",
       "2791 -87.944620  Entire home/apt   1054               3                  0   \n",
       "2792 -88.400190  Entire home/apt    401               3                  0   \n",
       "2793 -87.955220  Entire home/apt    252               1                  0   \n",
       "2794 -87.957120  Entire home/apt    242               3                  0   \n",
       "2795 -89.069689     Private room    226               1                  0   \n",
       "\n",
       "     last_review  reviews_per_month  calculated_host_listings_count  \\\n",
       "0      2/23/2021               2.00                               5   \n",
       "1      2/19/2021               2.46                               5   \n",
       "2      3/14/2020               0.78                               1   \n",
       "3      2/24/2020               0.29                               3   \n",
       "4      3/18/2020               0.64                              22   \n",
       "...          ...                ...                             ...   \n",
       "2791         NaN                NaN                               2   \n",
       "2792         NaN                NaN                               2   \n",
       "2793         NaN                NaN                             204   \n",
       "2794         NaN                NaN                               4   \n",
       "2795         NaN                NaN                               5   \n",
       "\n",
       "      availability_365  \n",
       "0                  225  \n",
       "1                  164  \n",
       "2                  364  \n",
       "3                  331  \n",
       "4                  203  \n",
       "...                ...  \n",
       "2791               347  \n",
       "2792               302  \n",
       "2793               364  \n",
       "2794               364  \n",
       "2795               365  \n",
       "\n",
       "[2796 rows x 16 columns]>"
      ]
     },
     "execution_count": 20,
     "metadata": {},
     "output_type": "execute_result"
    }
   ],
   "source": [
    "belize_listings_path = \"belize_airbnb_listings.csv\"\n",
    "belize_df = pd.read_csv(belize_listings_path)\n",
    "belize_df.head"
   ]
  },
  {
   "cell_type": "code",
   "execution_count": 27,
   "metadata": {},
   "outputs": [
    {
     "name": "stdout",
     "output_type": "stream",
     "text": [
      "                            price  number_of_reviews  availability_365\n",
      "neighbourhood                                                         \n",
      "Belize Islands         399.442824              22995               365\n",
      "Belize Mainland        288.273063               4105               365\n",
      "Cayo                   205.847525               7356               365\n",
      "Corozal                156.553846                492               365\n",
      "Orange Walk            122.035714                415               365\n",
      "Stann Creek Islands   1136.166667                 69               365\n",
      "Stann Creek Mainland   456.994690               4786               365\n",
      "Toledo Mainland        222.978723                194               365\n"
     ]
    }
   ],
   "source": [
    "neighbourhood_facts = belize_df.groupby('neighbourhood')[['price', 'number_of_reviews', 'availability_365']].agg({\n",
    "    'price': 'mean',\n",
    "    'number_of_reviews': 'sum',\n",
    "    'availability_365': 'max'\n",
    "})\n",
    "print(neighbourhood_facts)"
   ]
  }
 ],
 "metadata": {
  "kernelspec": {
   "display_name": "Python 3",
   "language": "python",
   "name": "python3"
  },
  "language_info": {
   "codemirror_mode": {
    "name": "ipython",
    "version": 3
   },
   "file_extension": ".py",
   "mimetype": "text/x-python",
   "name": "python",
   "nbconvert_exporter": "python",
   "pygments_lexer": "ipython3",
   "version": "3.9.6"
  }
 },
 "nbformat": 4,
 "nbformat_minor": 2
}
